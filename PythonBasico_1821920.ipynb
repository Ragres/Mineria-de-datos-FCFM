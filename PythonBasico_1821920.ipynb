{
 "cells": [
  {
   "cell_type": "markdown",
   "metadata": {},
   "source": [
    "# Ejercicios basicos"
   ]
  },
  {
   "cell_type": "markdown",
   "metadata": {},
   "source": [
    "## Ejercicios con estructuras básicas de python."
   ]
  },
  {
   "cell_type": "markdown",
   "metadata": {},
   "source": [
    "### 1: Tuplas"
   ]
  },
  {
   "cell_type": "markdown",
   "metadata": {},
   "source": [
    "#### 1.1 Crear una variable flotante, integer, boleana y compleja e imprimir el tipo de variable que es."
   ]
  },
  {
   "cell_type": "code",
   "execution_count": null,
   "metadata": {},
   "outputs": [],
   "source": [
    "Flotante= 1.2"
   ]
  },
  {
   "cell_type": "code",
   "execution_count": null,
   "metadata": {},
   "outputs": [],
   "source": [
    "Entero= 1"
   ]
  },
  {
   "cell_type": "code",
   "execution_count": null,
   "metadata": {},
   "outputs": [],
   "source": [
    "Boleano= True"
   ]
  },
  {
   "cell_type": "code",
   "execution_count": 4,
   "metadata": {},
   "outputs": [],
   "source": [
    "Complejo=1+2j"
   ]
  },
  {
   "cell_type": "code",
   "execution_count": 5,
   "metadata": {},
   "outputs": [
    {
     "name": "stdout",
     "output_type": "stream",
     "text": [
      "<class 'float'> <class 'int'> <class 'bool'> <class 'complex'>\n"
     ]
    }
   ],
   "source": [
    "print(type(Flotante),type(Entero),type(Boleano),type(Complejo))"
   ]
  },
  {
   "cell_type": "markdown",
   "metadata": {},
   "source": [
    "#### 1.2 Crear una tupla con valores enteros imprimir el primer y ultimo valor."
   ]
  },
  {
   "cell_type": "code",
   "execution_count": 6,
   "metadata": {},
   "outputs": [],
   "source": [
    "tupla=(1,2,3,4,5,6,7,8,9,10)"
   ]
  },
  {
   "cell_type": "code",
   "execution_count": 7,
   "metadata": {},
   "outputs": [
    {
     "name": "stdout",
     "output_type": "stream",
     "text": [
      "1 10\n"
     ]
    }
   ],
   "source": [
    "print(tupla[0],tupla[len(tupla)-1])"
   ]
  },
  {
   "cell_type": "markdown",
   "metadata": {},
   "source": [
    "#### 1.3 Añadir 3 valores de string a la tupla."
   ]
  },
  {
   "cell_type": "code",
   "execution_count": 8,
   "metadata": {},
   "outputs": [
    {
     "data": {
      "text/plain": [
       "(1, 2, 3, 4, 5, 6, 7, 8, 9, 10, 'Primero', 'Segundo', 'Tercero')"
      ]
     },
     "execution_count": 8,
     "metadata": {},
     "output_type": "execute_result"
    }
   ],
   "source": [
    "tupla_2=(\"Primero\",\"Segundo\",\"Tercero\")\n",
    "tupla_3=tupla+tupla_2\n",
    "tupla_3"
   ]
  },
  {
   "cell_type": "markdown",
   "metadata": {},
   "source": [
    "#### 1.4 Verificar si una variable existe dentro de la tupla."
   ]
  },
  {
   "cell_type": "code",
   "execution_count": 9,
   "metadata": {},
   "outputs": [],
   "source": [
    "def busqueda(tupla,busqueda):\n",
    "    validar=-1\n",
    "    if (busqueda in tupla):\n",
    "        validar=tupla.index(busqueda)\n",
    "    if validar!=-1:\n",
    "        print(\"Si esta en la tupla, esta en la posicion\",validar)\n",
    "    else: \n",
    "        print(\"No esta en la tupla\")\n",
    "    "
   ]
  },
  {
   "cell_type": "code",
   "execution_count": 10,
   "metadata": {},
   "outputs": [
    {
     "name": "stdout",
     "output_type": "stream",
     "text": [
      "Primero\n",
      "Si esta en la tupla, esta en la posicion 10\n"
     ]
    }
   ],
   "source": [
    "Buscar=input()\n",
    "busqueda(tupla_3,Buscar)\n",
    "\n"
   ]
  },
  {
   "cell_type": "markdown",
   "metadata": {},
   "source": [
    "\n",
    "### 2: Listas\n",
    "\n"
   ]
  },
  {
   "cell_type": "markdown",
   "metadata": {},
   "source": [
    "#### 2.1 Crear una lista con 40 elementos aleatorios enteros."
   ]
  },
  {
   "cell_type": "code",
   "execution_count": 11,
   "metadata": {},
   "outputs": [
    {
     "data": {
      "text/plain": [
       "40"
      ]
     },
     "execution_count": 11,
     "metadata": {},
     "output_type": "execute_result"
    }
   ],
   "source": [
    "import random as r\n",
    "Lista=[]\n",
    "for i in range(0,40):\n",
    "    Lista.append(r.random())\n",
    "len(Lista)"
   ]
  },
  {
   "cell_type": "markdown",
   "metadata": {},
   "source": [
    "#### 2.2  Con una funcion (def) crear dos listas nuevas a partir de la lista creada por numeros aleatorios, en la cual en una esten los elementos pares, y en la otra los elementos impares."
   ]
  },
  {
   "cell_type": "code",
   "execution_count": 12,
   "metadata": {},
   "outputs": [],
   "source": [
    "def particion(lista):\n",
    "    Par=[]\n",
    "    Impar=[]\n",
    "    for i in range(0,len(lista)):\n",
    "        if(i%2==0):\n",
    "            Par.append(lista[i])\n",
    "        else:\n",
    "            Impar.append(lista[i])\n",
    "    return(Par,Impar)"
   ]
  },
  {
   "cell_type": "code",
   "execution_count": 13,
   "metadata": {},
   "outputs": [],
   "source": [
    "Lista_par=particion(Lista)[0]\n",
    "Lista_impar=particion(Lista)[1]"
   ]
  },
  {
   "cell_type": "code",
   "execution_count": 14,
   "metadata": {},
   "outputs": [
    {
     "data": {
      "text/plain": [
       "[0.49483642853844934,\n",
       " 0.7472799047511014,\n",
       " 0.8966111821347909,\n",
       " 0.2615337201249207,\n",
       " 0.30262163656298524,\n",
       " 0.48943011764322486,\n",
       " 0.938570389949783,\n",
       " 0.3025001683434626,\n",
       " 0.4572412421689058,\n",
       " 0.2967944086198592,\n",
       " 0.39608342534849483,\n",
       " 0.36128954090986554,\n",
       " 0.7614869670344957,\n",
       " 0.6190247031433354,\n",
       " 0.7650191597018912,\n",
       " 0.3442386798669015,\n",
       " 0.6168893417005017,\n",
       " 0.6478599688923573,\n",
       " 0.29819984174271685,\n",
       " 0.6425901612044865]"
      ]
     },
     "execution_count": 14,
     "metadata": {},
     "output_type": "execute_result"
    }
   ],
   "source": [
    "Lista_par"
   ]
  },
  {
   "cell_type": "code",
   "execution_count": 15,
   "metadata": {},
   "outputs": [
    {
     "data": {
      "text/plain": [
       "[0.5813342048097397,\n",
       " 0.8342561239728674,\n",
       " 0.5026109258718391,\n",
       " 0.7061259291187688,\n",
       " 0.9084267049599742,\n",
       " 0.04662297260634607,\n",
       " 0.7513678595723432,\n",
       " 0.30217921658480795,\n",
       " 0.3819891264580002,\n",
       " 0.916342738966688,\n",
       " 0.6532261816681602,\n",
       " 0.7980222282069929,\n",
       " 0.40252317294059536,\n",
       " 0.5714544405769361,\n",
       " 0.8965077826735057,\n",
       " 0.923599902973522,\n",
       " 0.8659300520497778,\n",
       " 0.15049664492971582,\n",
       " 0.8721301749478778,\n",
       " 0.22027901617079937]"
      ]
     },
     "execution_count": 15,
     "metadata": {},
     "output_type": "execute_result"
    }
   ],
   "source": [
    "Lista_impar"
   ]
  },
  {
   "cell_type": "markdown",
   "metadata": {},
   "source": [
    "#### 2.3 Crear dos variables con la longitud de ambas listas nuevas e imprimir las variables.\n"
   ]
  },
  {
   "cell_type": "code",
   "execution_count": 16,
   "metadata": {},
   "outputs": [
    {
     "name": "stdout",
     "output_type": "stream",
     "text": [
      "20 20\n"
     ]
    }
   ],
   "source": [
    "longitud_par=len(Lista_par)\n",
    "longitud_impar=len(Lista_impar)\n",
    "print(longitud_par,longitud_impar)"
   ]
  },
  {
   "cell_type": "markdown",
   "metadata": {},
   "source": [
    "#### 2.4 Ordenar los elementos de la lista par de mayor a menor, y los de la lista impar de menor a mayor."
   ]
  },
  {
   "cell_type": "code",
   "execution_count": 17,
   "metadata": {},
   "outputs": [],
   "source": [
    "Lista_par.sort()"
   ]
  },
  {
   "cell_type": "code",
   "execution_count": 18,
   "metadata": {},
   "outputs": [],
   "source": [
    "Lista_impar.sort(reverse=True)"
   ]
  },
  {
   "cell_type": "code",
   "execution_count": 19,
   "metadata": {},
   "outputs": [
    {
     "data": {
      "text/plain": [
       "[0.2615337201249207,\n",
       " 0.2967944086198592,\n",
       " 0.29819984174271685,\n",
       " 0.3025001683434626,\n",
       " 0.30262163656298524,\n",
       " 0.3442386798669015,\n",
       " 0.36128954090986554,\n",
       " 0.39608342534849483,\n",
       " 0.4572412421689058,\n",
       " 0.48943011764322486,\n",
       " 0.49483642853844934,\n",
       " 0.6168893417005017,\n",
       " 0.6190247031433354,\n",
       " 0.6425901612044865,\n",
       " 0.6478599688923573,\n",
       " 0.7472799047511014,\n",
       " 0.7614869670344957,\n",
       " 0.7650191597018912,\n",
       " 0.8966111821347909,\n",
       " 0.938570389949783]"
      ]
     },
     "execution_count": 19,
     "metadata": {},
     "output_type": "execute_result"
    }
   ],
   "source": [
    "Lista_par"
   ]
  },
  {
   "cell_type": "code",
   "execution_count": 20,
   "metadata": {},
   "outputs": [
    {
     "data": {
      "text/plain": [
       "[0.923599902973522,\n",
       " 0.916342738966688,\n",
       " 0.9084267049599742,\n",
       " 0.8965077826735057,\n",
       " 0.8721301749478778,\n",
       " 0.8659300520497778,\n",
       " 0.8342561239728674,\n",
       " 0.7980222282069929,\n",
       " 0.7513678595723432,\n",
       " 0.7061259291187688,\n",
       " 0.6532261816681602,\n",
       " 0.5813342048097397,\n",
       " 0.5714544405769361,\n",
       " 0.5026109258718391,\n",
       " 0.40252317294059536,\n",
       " 0.3819891264580002,\n",
       " 0.30217921658480795,\n",
       " 0.22027901617079937,\n",
       " 0.15049664492971582,\n",
       " 0.04662297260634607]"
      ]
     },
     "execution_count": 20,
     "metadata": {},
     "output_type": "execute_result"
    }
   ],
   "source": [
    "Lista_impar"
   ]
  },
  {
   "cell_type": "markdown",
   "metadata": {},
   "source": [
    "#### 2.5 Utilizar al menos cuatro de las funciones de listas en python en la lista original de 40 elementos."
   ]
  },
  {
   "cell_type": "code",
   "execution_count": 21,
   "metadata": {},
   "outputs": [
    {
     "data": {
      "text/plain": [
       "12"
      ]
     },
     "execution_count": 21,
     "metadata": {},
     "output_type": "execute_result"
    }
   ],
   "source": [
    "Lista.index(max(Lista))"
   ]
  },
  {
   "cell_type": "code",
   "execution_count": 22,
   "metadata": {},
   "outputs": [],
   "source": [
    "Lista_2=Lista.copy()"
   ]
  },
  {
   "cell_type": "code",
   "execution_count": 23,
   "metadata": {},
   "outputs": [],
   "source": [
    "Lista.remove(min(Lista))"
   ]
  },
  {
   "cell_type": "code",
   "execution_count": 24,
   "metadata": {},
   "outputs": [],
   "source": [
    "Lista.reverse()"
   ]
  },
  {
   "cell_type": "markdown",
   "metadata": {},
   "source": [
    "### 3: Diccionarios"
   ]
  },
  {
   "cell_type": "markdown",
   "metadata": {},
   "source": [
    "#### 3.1 Crear un diccionario de 6 personas que conozcas con su primer nombre y su edad."
   ]
  },
  {
   "cell_type": "code",
   "execution_count": 25,
   "metadata": {},
   "outputs": [],
   "source": [
    "Nombres= {'Nombre': [\"Victor\",\"Sabina\",\"Paty\",\"Paola\",\"Pedro\",\"Grecia\"],\n",
    "             'Edad': [21,26,23,24,28,30]}"
   ]
  },
  {
   "cell_type": "markdown",
   "metadata": {},
   "source": [
    "#### 3.2 Crear una lista con los valores de la edad y reacomodar la lista de menor a mayor valor."
   ]
  },
  {
   "cell_type": "code",
   "execution_count": 26,
   "metadata": {},
   "outputs": [
    {
     "data": {
      "text/plain": [
       "[21, 23, 24, 26, 28, 30]"
      ]
     },
     "execution_count": 26,
     "metadata": {},
     "output_type": "execute_result"
    }
   ],
   "source": [
    "Edades=Nombres['Edad']\n",
    "Edades.sort()\n",
    "Edades"
   ]
  },
  {
   "cell_type": "markdown",
   "metadata": {},
   "source": [
    "#### 3.3 Usando el diccionario y un loop, imprimir solo los nombres.\n"
   ]
  },
  {
   "cell_type": "code",
   "execution_count": 27,
   "metadata": {},
   "outputs": [
    {
     "name": "stdout",
     "output_type": "stream",
     "text": [
      "Victor\n",
      "Sabina\n",
      "Paty\n",
      "Paola\n",
      "Pedro\n",
      "Grecia\n"
     ]
    }
   ],
   "source": [
    "for i in range(0,len(Nombres['Nombre'])):\n",
    "    print(Nombres['Nombre'][i])"
   ]
  },
  {
   "cell_type": "markdown",
   "metadata": {},
   "source": [
    "#### 3.4 Añadir dos personas nuevas a tu diccionario, incluyendo edad.\n"
   ]
  },
  {
   "cell_type": "code",
   "execution_count": 28,
   "metadata": {},
   "outputs": [],
   "source": [
    "Nombres['Nombre'].append(\"Miguel\")\n",
    "Nombres['Nombre'].append(\"Luis\")"
   ]
  },
  {
   "cell_type": "code",
   "execution_count": 29,
   "metadata": {},
   "outputs": [],
   "source": [
    "Nombres['Edad'].append(12)\n",
    "Nombres['Edad'].append(33)"
   ]
  },
  {
   "cell_type": "code",
   "execution_count": 30,
   "metadata": {},
   "outputs": [
    {
     "data": {
      "text/plain": [
       "{'Nombre': ['Victor',\n",
       "  'Sabina',\n",
       "  'Paty',\n",
       "  'Paola',\n",
       "  'Pedro',\n",
       "  'Grecia',\n",
       "  'Miguel',\n",
       "  'Luis'],\n",
       " 'Edad': [21, 23, 24, 26, 28, 30, 12, 33]}"
      ]
     },
     "execution_count": 30,
     "metadata": {},
     "output_type": "execute_result"
    }
   ],
   "source": [
    "Nombres"
   ]
  },
  {
   "cell_type": "markdown",
   "metadata": {},
   "source": [
    "### 4: Sets"
   ]
  },
  {
   "cell_type": "markdown",
   "metadata": {},
   "source": [
    "#### 4.1 Crea un set con 100 numeros aleatorios enteros del 1 al 25."
   ]
  },
  {
   "cell_type": "code",
   "execution_count": 31,
   "metadata": {},
   "outputs": [],
   "source": [
    "Valores=set()"
   ]
  },
  {
   "cell_type": "code",
   "execution_count": 32,
   "metadata": {},
   "outputs": [],
   "source": [
    "for i in range(0,99):\n",
    "    Valores.add(r.randint(1,25))"
   ]
  },
  {
   "cell_type": "code",
   "execution_count": 33,
   "metadata": {},
   "outputs": [
    {
     "data": {
      "text/plain": [
       "{1,\n",
       " 2,\n",
       " 3,\n",
       " 5,\n",
       " 6,\n",
       " 7,\n",
       " 8,\n",
       " 9,\n",
       " 10,\n",
       " 11,\n",
       " 12,\n",
       " 13,\n",
       " 14,\n",
       " 15,\n",
       " 16,\n",
       " 17,\n",
       " 18,\n",
       " 19,\n",
       " 21,\n",
       " 22,\n",
       " 23,\n",
       " 24,\n",
       " 25}"
      ]
     },
     "execution_count": 33,
     "metadata": {},
     "output_type": "execute_result"
    }
   ],
   "source": [
    "Valores"
   ]
  },
  {
   "cell_type": "markdown",
   "metadata": {},
   "source": [
    "#### 4.2 Comprueba la longitud de tu set."
   ]
  },
  {
   "cell_type": "code",
   "execution_count": 34,
   "metadata": {},
   "outputs": [
    {
     "name": "stdout",
     "output_type": "stream",
     "text": [
      "23  Podemos notar como solo son 25 dado que no podemos repetir valores en un set\n"
     ]
    }
   ],
   "source": [
    "\n",
    "print(len(Valores),\" Podemos notar como solo son 25 dado que no podemos repetir valores en un set\")"
   ]
  },
  {
   "cell_type": "markdown",
   "metadata": {},
   "source": [
    "#### 4.3 Crea una lista de 5 numeros aleatorios del 1 al 10 y comprueba si cada valor aparece en el set inicial.\n"
   ]
  },
  {
   "cell_type": "code",
   "execution_count": 35,
   "metadata": {},
   "outputs": [
    {
     "name": "stdout",
     "output_type": "stream",
     "text": [
      "True\n",
      "True\n",
      "True\n",
      "True\n",
      "True\n",
      "Debido a la gran cantidad de intentos (los 100 del set), es muy poco probable que nos arrojen un False\n"
     ]
    }
   ],
   "source": [
    "Lista= []\n",
    "for i in range(0,5):\n",
    "    Lista.append(r.randint(1,10))\n",
    "    print(Lista[i] in Valores)\n",
    "print(\"Debido a la gran cantidad de intentos (los 100 del set), es muy poco probable que nos arrojen un False\")\n"
   ]
  },
  {
   "cell_type": "markdown",
   "metadata": {},
   "source": [
    "## Ejercicios generales "
   ]
  },
  {
   "cell_type": "markdown",
   "metadata": {},
   "source": [
    "### Ejercicio 1: \n",
    "\n",
    "Realiza una variable con tu matricula y realiza una secuencia de imprimir con tu nombre y tu matricula concatenados."
   ]
  },
  {
   "cell_type": "code",
   "execution_count": 36,
   "metadata": {},
   "outputs": [
    {
     "name": "stdout",
     "output_type": "stream",
     "text": [
      "Victor1821920\n"
     ]
    }
   ],
   "source": [
    "variable=1821920\n",
    "print(\"Victor\"+str(variable))"
   ]
  },
  {
   "cell_type": "markdown",
   "metadata": {},
   "source": [
    "### Ejercicio 2:\n",
    "\n",
    "Pidiendo el input del usuario pide dos números y crea una pequeña calculadora con los operadores básicos de suma, resta, multiplicación, división, y exponente."
   ]
  },
  {
   "cell_type": "code",
   "execution_count": 37,
   "metadata": {},
   "outputs": [
    {
     "name": "stdout",
     "output_type": "stream",
     "text": [
      "Introduce el primer numero (a) 20\n",
      "Introduce el segundo numero (b) 30\n",
      "¿Que desea hacer?:\n",
      "1. Suma\n",
      "2. Resta (a-b)\n",
      "3. Multiplicación\n",
      "4. División(a/b)\n",
      "5. División(b/a)\n",
      "6. Exponente(a^b)\n",
      "7. Exponente(b^a)\n",
      "1\n",
      "50.0\n"
     ]
    }
   ],
   "source": [
    "numero1=float(input(\"Introduce el primer numero (a) \"))\n",
    "numero2=float(input(\"Introduce el segundo numero (b) \"))\n",
    "print(\"¿Que desea hacer?:\\n1. Suma\\n2. Resta (a-b)\\n3. Multiplicación\\n4. División(a/b)\\n5. División(b/a)\\n6. Exponente(a^b)\\n7. Exponente(b^a)\")\n",
    "seleccion=int(input())\n",
    "if(seleccion==1):\n",
    "    print(numero1+numero2)\n",
    "if(seleccion==2):\n",
    "    print(numero1-numero2)\n",
    "if(seleccion==3):\n",
    "    print(numero1*numero2)\n",
    "if(seleccion==4):\n",
    "    print(numero1/numero2)\n",
    "if(seleccion==5):\n",
    "    print(numero2/numero1)\n",
    "if(seleccion==6):\n",
    "    print(numero1**numero2)\n",
    "if(seleccion==7):\n",
    "    print(numero2**numero1)\n",
    "if(seleccion<1 | seleccion >7):\n",
    "    print(\"No tenemos esa seleccion\")"
   ]
  },
  {
   "cell_type": "markdown",
   "metadata": {},
   "source": [
    "### Ejercicio 3\n",
    "Con loop while o for, realiza una lista de 10 numeros multiplos de 3, y después realiza una función de loop que sume todos los números dentro del arreglo."
   ]
  },
  {
   "cell_type": "code",
   "execution_count": 38,
   "metadata": {},
   "outputs": [
    {
     "name": "stdout",
     "output_type": "stream",
     "text": [
      "165\n"
     ]
    }
   ],
   "source": [
    "i=0\n",
    "lista=[]\n",
    "while i<10:\n",
    "    lista.append((i+1)*3)\n",
    "    i+=1\n",
    "suma=0\n",
    "for i in range(0,10):\n",
    "    suma+=lista[i]\n",
    "print(suma)\n"
   ]
  },
  {
   "cell_type": "markdown",
   "metadata": {},
   "source": [
    "### Ejercicio 4\n",
    "- Con una función de if else, revisar si un número es par o es impar.\n",
    "- Con una función de if else, revisar si un número es primo o no."
   ]
  },
  {
   "cell_type": "code",
   "execution_count": 39,
   "metadata": {},
   "outputs": [
    {
     "name": "stdout",
     "output_type": "stream",
     "text": [
      "Introduzca un numero 40\n",
      "El numero es par\n"
     ]
    }
   ],
   "source": [
    "variable=int(input(\"Introduzca un numero \"))\n",
    "if(variable%2==0):\n",
    "    print(\"El numero es par\")\n",
    "else:\n",
    "    print(\"El numero es impar\")"
   ]
  },
  {
   "cell_type": "code",
   "execution_count": 45,
   "metadata": {},
   "outputs": [
    {
     "name": "stdout",
     "output_type": "stream",
     "text": [
      "Introduzca un numero 7\n",
      "El numero es primo\n"
     ]
    }
   ],
   "source": [
    "import math as m\n",
    "variable=int(input(\"Introduzca un numero \"))\n",
    "indicador=0\n",
    "for i in range(2,m.floor(variable/2)+1):\n",
    "    if(variable%i==0):\n",
    "        indicador=1\n",
    "if(indicador==1):\n",
    "    print(\"El numero no es primo\")\n",
    "else:\n",
    "    print(\"El numero es primo\")\n"
   ]
  },
  {
   "cell_type": "markdown",
   "metadata": {},
   "source": [
    "### Ejercicio 5\n",
    "Utilizando diferentes clases en python, crea una calculadora con los operadores básicos de suma, resta, multiplicación, división, y exp."
   ]
  },
  {
   "cell_type": "code",
   "execution_count": 41,
   "metadata": {},
   "outputs": [
    {
     "name": "stdout",
     "output_type": "stream",
     "text": [
      "Ingrese el primer número (a): \n",
      "20\n",
      "Ingrese el segundo número (b): \n",
      "20\n",
      "Seleccione la operación a realizar:\n",
      "1. Suma\n",
      "2. Resta\n",
      "3. Multiplicación\n",
      "4. División(a/b)\n",
      "5. División(b/a)\n",
      "6. Exponente(a^b)\n",
      "7. Exponente(b^a)\n",
      "1\n",
      "a+b= 40.0\n"
     ]
    }
   ],
   "source": [
    "class calculadora:\n",
    "    def sumar(a,b):\n",
    "        print(\"a+b= \"+str(a+b))\n",
    "    def restar(a,b):\n",
    "        print(\"a-b= \"+str(a-b))\n",
    "    def multiplicar(a,b):\n",
    "        print(\"a*b= \"+str(a*b))\n",
    "    def division1(a,b):\n",
    "        print(\"a/b= \"+str(a/b))\n",
    "    def division2(a,b):\n",
    "        print(\"b/a= \"+str(b/a))\n",
    "    def exponente1(a,b):\n",
    "        print(\"a^b= \"+str(a**b))\n",
    "    def exponente2(a,b):\n",
    "        print(\"b^a\"+str(b**a))\n",
    "\n",
    "def menu():\n",
    "    print(\"Seleccione la operación a realizar:\\n1. Suma\\n2. Resta\\n3. Multiplicación\\n4. División(a/b)\\n5. División(b/a)\\n6. Exponente(a^b)\\n7. Exponente(b^a)\")\n",
    "    return int(input())\n",
    "print(\"Ingrese el primer número (a): \")\n",
    "a=float(input())\n",
    "print(\"Ingrese el segundo número (b): \")\n",
    "b=float(input())\n",
    "seleccion=menu()\n",
    "if(seleccion==1):\n",
    "    calculadora.sumar(a,b)\n",
    "if(seleccion==2):\n",
    "    calculadora.restar(a,b)\n",
    "if(seleccion==3):\n",
    "    calculadora.multiplicar(a,b)\n",
    "if(seleccion==4):\n",
    "    calculadora.division1(a,b)\n",
    "if(seleccion==5):\n",
    "    calculadora.division2(a,b)\n",
    "if(seleccion==6):\n",
    "    calculadora.exponente1(a,b)\n",
    "if(seleccion==7):\n",
    "    calculadora.exponente2(a,b)\n",
    "if(seleccion<1 | seleccion >7):\n",
    "    print(\"No tenemos esa seleccion\")\n"
   ]
  },
  {
   "cell_type": "code",
   "execution_count": null,
   "metadata": {},
   "outputs": [],
   "source": []
  }
 ],
 "metadata": {
  "kernelspec": {
   "display_name": "Python 3",
   "language": "python",
   "name": "python3"
  },
  "language_info": {
   "codemirror_mode": {
    "name": "ipython",
    "version": 3
   },
   "file_extension": ".py",
   "mimetype": "text/x-python",
   "name": "python",
   "nbconvert_exporter": "python",
   "pygments_lexer": "ipython3",
   "version": "3.7.6"
  }
 },
 "nbformat": 4,
 "nbformat_minor": 4
}
